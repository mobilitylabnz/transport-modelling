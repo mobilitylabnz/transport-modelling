{
 "cells": [
  {
   "cell_type": "markdown",
   "metadata": {},
   "source": [
    "# Aimsun Output Analysis"
   ]
  },
  {
   "cell_type": "markdown",
   "metadata": {},
   "source": [
    "Extracts data from an sqlite file created by Aimsun.  \n",
    "\n",
    "caleb@mobilitylab.co.nz"
   ]
  },
  {
   "cell_type": "code",
   "execution_count": 1,
   "metadata": {},
   "outputs": [],
   "source": [
    "import sqlite3\n",
    "import pandas as pd\n",
    "import plotly.express as px"
   ]
  },
  {
   "cell_type": "markdown",
   "metadata": {},
   "source": [
    "# Inputs"
   ]
  },
  {
   "cell_type": "code",
   "execution_count": null,
   "metadata": {},
   "outputs": [],
   "source": [
    "# define the database\n",
    "database = 'input/aimsun.sqlite'"
   ]
  },
  {
   "cell_type": "markdown",
   "metadata": {},
   "source": [
    "# Connect to database and query"
   ]
  },
  {
   "cell_type": "code",
   "execution_count": 3,
   "metadata": {},
   "outputs": [
    {
     "name": "stdout",
     "output_type": "stream",
     "text": [
      "SELECT * FROM MISUBPATH WHERE did IN (100,101,102,103) AND sid IN (53,54) AND ent in (0,1,2,3,4,5,6,7,8) AND oid IN (1001,1002,1003);\n"
     ]
    }
   ],
   "source": [
    "# Establish a connection to the SQLite database\n",
    "conn = sqlite3.connect(database)\n",
    "\n",
    "# define your table\n",
    "table = 'MISUBPATH'\n",
    "\n",
    "# define your replications\n",
    "replication_ids = [100,101,102,103]\n",
    "replication_str = ','.join(map(str, replication_ids))\n",
    "\n",
    "\n",
    "# define your vehicles\n",
    "veh_ids = [53,54]\n",
    "veh_str = ','.join(map(str, veh_ids))\n",
    "\n",
    "\n",
    "# define your time periods\n",
    "times = [0, 1, 2, 3, 4, 5, 6, 7, 8]\n",
    "time_str = ','.join(map(str, times))\n",
    "\n",
    "# define your object ids (e.g., subpath ids)\n",
    "oids = [1001, 1002, 1003]\n",
    "oid_str = ','.join(map(str, oids))\n",
    "\n",
    "# Write your SQL query\n",
    "query = f\"SELECT * FROM {table} WHERE did IN ({replication_str}) AND sid IN ({veh_str}) AND ent in ({time_str}) AND oid IN ({oid_str});\"\n",
    "\n",
    "print(query)\n",
    "\n",
    "# # Use pandas to run the SQL query and store the results in a DataFrame\n",
    "df = pd.read_sql_query(query, conn)\n",
    "\n",
    "# Don't forget to close the connection when you're done\n",
    "conn.close()"
   ]
  },
  {
   "cell_type": "code",
   "execution_count": null,
   "metadata": {},
   "outputs": [],
   "source": []
  }
 ],
 "metadata": {
  "kernelspec": {
   "display_name": ".venv",
   "language": "python",
   "name": "python3"
  },
  "language_info": {
   "codemirror_mode": {
    "name": "ipython",
    "version": 3
   },
   "file_extension": ".py",
   "mimetype": "text/x-python",
   "name": "python",
   "nbconvert_exporter": "python",
   "pygments_lexer": "ipython3",
   "version": "3.10.8"
  }
 },
 "nbformat": 4,
 "nbformat_minor": 2
}
